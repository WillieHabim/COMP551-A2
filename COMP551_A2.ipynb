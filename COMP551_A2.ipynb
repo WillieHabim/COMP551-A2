{
  "nbformat": 4,
  "nbformat_minor": 0,
  "metadata": {
    "colab": {
      "provenance": [],
      "collapsed_sections": [],
      "authorship_tag": "ABX9TyPQkDEEeozPEpJ0cb3k7c1k",
      "include_colab_link": true
    },
    "kernelspec": {
      "name": "python3",
      "display_name": "Python 3"
    },
    "language_info": {
      "name": "python"
    }
  },
  "cells": [
    {
      "cell_type": "markdown",
      "metadata": {
        "id": "view-in-github",
        "colab_type": "text"
      },
      "source": [
        "<a href=\"https://colab.research.google.com/github/WillieHabim/COMP551-A2/blob/main/COMP551_A2.ipynb\" target=\"_parent\"><img src=\"https://colab.research.google.com/assets/colab-badge.svg\" alt=\"Open In Colab\"/></a>"
      ]
    },
    {
      "cell_type": "markdown",
      "source": [
        "# Task 1.1"
      ],
      "metadata": {
        "id": "cj8PPiY8BINX"
      }
    },
    {
      "cell_type": "markdown",
      "source": [
        "##Task 1.1"
      ],
      "metadata": {
        "id": "GtCYc_M8BMaY"
      }
    },
    {
      "cell_type": "markdown",
      "source": [
        "Get Data"
      ],
      "metadata": {
        "id": "KrWxIr_OBUzL"
      }
    },
    {
      "cell_type": "code",
      "source": [
        "!wget http://ai.stanford.edu/~amaas/data/sentiment/aclImdb_v1.tar.gz "
      ],
      "metadata": {
        "id": "x8vRymmrBV9T"
      },
      "execution_count": null,
      "outputs": []
    },
    {
      "cell_type": "code",
      "source": [
        "!tar --gunzip --extract --file=aclImdb_v1.tar.gz "
      ],
      "metadata": {
        "id": "oa4vwnHjNLYv"
      },
      "execution_count": null,
      "outputs": []
    },
    {
      "cell_type": "code",
      "source": [
        "import pandas as pd\n",
        "\n",
        "words_table = pd.read_csv('aclImdb/imdb.vocab', header=None)\n",
        "words_table.head()"
      ],
      "metadata": {
        "colab": {
          "base_uri": "https://localhost:8080/",
          "height": 204
        },
        "id": "xNYL3SEoOHkK",
        "outputId": "d08a158a-bc82-4b77-e224-da69e522f726"
      },
      "execution_count": null,
      "outputs": [
        {
          "output_type": "execute_result",
          "data": {
            "text/plain": [
              "     0\n",
              "0  the\n",
              "1  and\n",
              "2    a\n",
              "3   of\n",
              "4   to"
            ],
            "text/html": [
              "\n",
              "  <div id=\"df-a2cbc6e5-63ba-47a4-b8e1-9387d4dcc7a3\">\n",
              "    <div class=\"colab-df-container\">\n",
              "      <div>\n",
              "<style scoped>\n",
              "    .dataframe tbody tr th:only-of-type {\n",
              "        vertical-align: middle;\n",
              "    }\n",
              "\n",
              "    .dataframe tbody tr th {\n",
              "        vertical-align: top;\n",
              "    }\n",
              "\n",
              "    .dataframe thead th {\n",
              "        text-align: right;\n",
              "    }\n",
              "</style>\n",
              "<table border=\"1\" class=\"dataframe\">\n",
              "  <thead>\n",
              "    <tr style=\"text-align: right;\">\n",
              "      <th></th>\n",
              "      <th>0</th>\n",
              "    </tr>\n",
              "  </thead>\n",
              "  <tbody>\n",
              "    <tr>\n",
              "      <th>0</th>\n",
              "      <td>the</td>\n",
              "    </tr>\n",
              "    <tr>\n",
              "      <th>1</th>\n",
              "      <td>and</td>\n",
              "    </tr>\n",
              "    <tr>\n",
              "      <th>2</th>\n",
              "      <td>a</td>\n",
              "    </tr>\n",
              "    <tr>\n",
              "      <th>3</th>\n",
              "      <td>of</td>\n",
              "    </tr>\n",
              "    <tr>\n",
              "      <th>4</th>\n",
              "      <td>to</td>\n",
              "    </tr>\n",
              "  </tbody>\n",
              "</table>\n",
              "</div>\n",
              "      <button class=\"colab-df-convert\" onclick=\"convertToInteractive('df-a2cbc6e5-63ba-47a4-b8e1-9387d4dcc7a3')\"\n",
              "              title=\"Convert this dataframe to an interactive table.\"\n",
              "              style=\"display:none;\">\n",
              "        \n",
              "  <svg xmlns=\"http://www.w3.org/2000/svg\" height=\"24px\"viewBox=\"0 0 24 24\"\n",
              "       width=\"24px\">\n",
              "    <path d=\"M0 0h24v24H0V0z\" fill=\"none\"/>\n",
              "    <path d=\"M18.56 5.44l.94 2.06.94-2.06 2.06-.94-2.06-.94-.94-2.06-.94 2.06-2.06.94zm-11 1L8.5 8.5l.94-2.06 2.06-.94-2.06-.94L8.5 2.5l-.94 2.06-2.06.94zm10 10l.94 2.06.94-2.06 2.06-.94-2.06-.94-.94-2.06-.94 2.06-2.06.94z\"/><path d=\"M17.41 7.96l-1.37-1.37c-.4-.4-.92-.59-1.43-.59-.52 0-1.04.2-1.43.59L10.3 9.45l-7.72 7.72c-.78.78-.78 2.05 0 2.83L4 21.41c.39.39.9.59 1.41.59.51 0 1.02-.2 1.41-.59l7.78-7.78 2.81-2.81c.8-.78.8-2.07 0-2.86zM5.41 20L4 18.59l7.72-7.72 1.47 1.35L5.41 20z\"/>\n",
              "  </svg>\n",
              "      </button>\n",
              "      \n",
              "  <style>\n",
              "    .colab-df-container {\n",
              "      display:flex;\n",
              "      flex-wrap:wrap;\n",
              "      gap: 12px;\n",
              "    }\n",
              "\n",
              "    .colab-df-convert {\n",
              "      background-color: #E8F0FE;\n",
              "      border: none;\n",
              "      border-radius: 50%;\n",
              "      cursor: pointer;\n",
              "      display: none;\n",
              "      fill: #1967D2;\n",
              "      height: 32px;\n",
              "      padding: 0 0 0 0;\n",
              "      width: 32px;\n",
              "    }\n",
              "\n",
              "    .colab-df-convert:hover {\n",
              "      background-color: #E2EBFA;\n",
              "      box-shadow: 0px 1px 2px rgba(60, 64, 67, 0.3), 0px 1px 3px 1px rgba(60, 64, 67, 0.15);\n",
              "      fill: #174EA6;\n",
              "    }\n",
              "\n",
              "    [theme=dark] .colab-df-convert {\n",
              "      background-color: #3B4455;\n",
              "      fill: #D2E3FC;\n",
              "    }\n",
              "\n",
              "    [theme=dark] .colab-df-convert:hover {\n",
              "      background-color: #434B5C;\n",
              "      box-shadow: 0px 1px 3px 1px rgba(0, 0, 0, 0.15);\n",
              "      filter: drop-shadow(0px 1px 2px rgba(0, 0, 0, 0.3));\n",
              "      fill: #FFFFFF;\n",
              "    }\n",
              "  </style>\n",
              "\n",
              "      <script>\n",
              "        const buttonEl =\n",
              "          document.querySelector('#df-a2cbc6e5-63ba-47a4-b8e1-9387d4dcc7a3 button.colab-df-convert');\n",
              "        buttonEl.style.display =\n",
              "          google.colab.kernel.accessAllowed ? 'block' : 'none';\n",
              "\n",
              "        async function convertToInteractive(key) {\n",
              "          const element = document.querySelector('#df-a2cbc6e5-63ba-47a4-b8e1-9387d4dcc7a3');\n",
              "          const dataTable =\n",
              "            await google.colab.kernel.invokeFunction('convertToInteractive',\n",
              "                                                     [key], {});\n",
              "          if (!dataTable) return;\n",
              "\n",
              "          const docLinkHtml = 'Like what you see? Visit the ' +\n",
              "            '<a target=\"_blank\" href=https://colab.research.google.com/notebooks/data_table.ipynb>data table notebook</a>'\n",
              "            + ' to learn more about interactive tables.';\n",
              "          element.innerHTML = '';\n",
              "          dataTable['output_type'] = 'display_data';\n",
              "          await google.colab.output.renderOutput(dataTable, element);\n",
              "          const docLink = document.createElement('div');\n",
              "          docLink.innerHTML = docLinkHtml;\n",
              "          element.appendChild(docLink);\n",
              "        }\n",
              "      </script>\n",
              "    </div>\n",
              "  </div>\n",
              "  "
            ]
          },
          "metadata": {},
          "execution_count": 4
        }
      ]
    },
    {
      "cell_type": "code",
      "source": [
        "!pip install -U libsvm-official"
      ],
      "metadata": {
        "colab": {
          "base_uri": "https://localhost:8080/"
        },
        "id": "ns_QJIduSf5c",
        "outputId": "37d8e6be-67e3-4b96-d6c3-981842fb8b5d"
      },
      "execution_count": null,
      "outputs": [
        {
          "output_type": "stream",
          "name": "stdout",
          "text": [
            "Looking in indexes: https://pypi.org/simple, https://us-python.pkg.dev/colab-wheels/public/simple/\n",
            "Requirement already satisfied: libsvm-official in /usr/local/lib/python3.7/dist-packages (3.30.0)\n",
            "Requirement already satisfied: scipy in /usr/local/lib/python3.7/dist-packages (from libsvm-official) (1.7.3)\n",
            "Requirement already satisfied: numpy<1.23.0,>=1.16.5 in /usr/local/lib/python3.7/dist-packages (from scipy->libsvm-official) (1.21.6)\n"
          ]
        }
      ]
    },
    {
      "cell_type": "code",
      "source": [
        "import numpy as np\n",
        "words = words_table.to_numpy()\n",
        "words.shape"
      ],
      "metadata": {
        "colab": {
          "base_uri": "https://localhost:8080/"
        },
        "id": "_jsHfZCKXF-n",
        "outputId": "b3c2449b-797e-40c4-fe68-38e6c0720082"
      },
      "execution_count": null,
      "outputs": [
        {
          "output_type": "execute_result",
          "data": {
            "text/plain": [
              "(89527, 1)"
            ]
          },
          "metadata": {},
          "execution_count": 6
        }
      ]
    },
    {
      "cell_type": "code",
      "source": [
        "valid_indices = [1 for i in range(words.shape[0])]\n",
        "len(valid_indices)"
      ],
      "metadata": {
        "colab": {
          "base_uri": "https://localhost:8080/"
        },
        "id": "fy9wZxz6iF-3",
        "outputId": "7e55af81-67a6-4777-e2db-b48a12e62cdf"
      },
      "execution_count": null,
      "outputs": [
        {
          "output_type": "execute_result",
          "data": {
            "text/plain": [
              "89527"
            ]
          },
          "metadata": {},
          "execution_count": 7
        }
      ]
    },
    {
      "cell_type": "markdown",
      "source": [
        "Remove rare and stopwords"
      ],
      "metadata": {
        "id": "_rWUw-WmhdfX"
      }
    },
    {
      "cell_type": "code",
      "source": [
        "import scipy\n",
        "from libsvm.svmutil import *\n",
        "y, x = svm_read_problem('aclImdb/train/labeledBow.feat', return_scipy = True) # y: ndarray, x: csr_matrix\n",
        "appearances = (x != 0).sum(0)\n",
        "ratios = appearances/y.shape[0]\n",
        "valid_indices = np.where((ratios < .01) | (ratios > 0.5), False, True).flatten()\n",
        "invalid_indices = np.logical_not(valid_indices)"
      ],
      "metadata": {
        "id": "V3fVI3LdO3xE"
      },
      "execution_count": null,
      "outputs": []
    },
    {
      "cell_type": "code",
      "source": [
        "valid_indices = np.array(valid_indices, dtype=bool)\n",
        "valid_words = words[valid_indices, :]\n",
        "X_imdb = x[:, valid_indices]\n",
        "y_imdb = y"
      ],
      "metadata": {
        "id": "9jNkWKJla5yV"
      },
      "execution_count": null,
      "outputs": []
    },
    {
      "cell_type": "markdown",
      "source": [
        "Find 500 top features/words by absolute z-score "
      ],
      "metadata": {
        "id": "h_9p2QU3iX1p"
      }
    },
    {
      "cell_type": "code",
      "source": [
        "from sklearn.preprocessing import StandardScaler\n",
        "import math\n",
        "\n",
        "scaler = StandardScaler()\n",
        "x_standard = scaler.fit_transform(X_imdb.toarray())\n",
        "y_standard = scaler.fit_transform(y.reshape(-1,1)).flatten()\n",
        "\n",
        "z = (np.dot(x_standard.T, y_standard))/math.sqrt(y.shape[0])\n",
        "best_features_imdb = np.argsort(abs(z))[::-1][:100]"
      ],
      "metadata": {
        "id": "moKrliYhY_dn"
      },
      "execution_count": null,
      "outputs": []
    },
    {
      "cell_type": "markdown",
      "source": [
        "##Task 1.2"
      ],
      "metadata": {
        "id": "0VWrFQAdintm"
      }
    },
    {
      "cell_type": "markdown",
      "source": [
        "Getting best features from news dataset"
      ],
      "metadata": {
        "id": "Nh20VtJJZkZw"
      }
    },
    {
      "cell_type": "code",
      "source": [
        "from sklearn.datasets import fetch_20newsgroups\n",
        "from sklearn.feature_extraction.text import CountVectorizer\n",
        "from sklearn.metrics import mutual_info_score\n",
        "from heapq import heappush, heappushpop\n",
        "\n",
        "bunch = fetch_20newsgroups(subset=\"train\", remove=(['headers', 'footers', 'quotes']))\n",
        "count_vect = CountVectorizer()\n",
        "X_train_total_counts = count_vect.fit_transform(bunch.data)\n",
        "\n",
        "# 4 categories:\n",
        "# -------\n",
        "# 1) rec.motorcycles 8\n",
        "# 2) soc.religion.christian 15\n",
        "# 3) sci.med 13\n",
        "# 4) comp.windows.x 5\n",
        "\n",
        "category_indices = np.where((bunch.target == 8) | (bunch.target == 5) |(bunch.target == 15) |(bunch.target == 13), True, False).tolist()\n",
        "X_train_counts = X_train_total_counts[category_indices, :]\n",
        "\n",
        "# One-hot Encoding\n",
        "# -----------------\n",
        "dic = {8:0,15:1,13:2,5:3}\n",
        "y_news = np.zeros((bunch.target[category_indices].size, 4))\n",
        "y_class = lambda x: dic[x]\n",
        "y_news[np.arange(bunch.target[category_indices].size), list(map(y_class, bunch.target[category_indices]))] = 1\n",
        "\n",
        "ratios = ((X_train_counts != 0).sum(0))/y_news.shape[0]\n",
        "valid_indices = np.where((ratios < .01) | (ratios > 0.5), False, True).flatten()\n",
        "valid_indices = np.array(valid_indices, dtype=bool)\n",
        "\n",
        "X_news = X_train_counts[:, valid_indices]\n",
        "best_features_news = set()\n",
        "\n",
        "for i in range(4):\n",
        "  minheap = []\n",
        "  for j in range(X_news.shape[1]):\n",
        "    mis = mutual_info_score(y_news[:,i], X_news[:,j].toarray().flatten())\n",
        "    if len(minheap) < 100:\n",
        "      heappush(minheap, (mis,j))\n",
        "    elif minheap[0][0] < mis:\n",
        "      heappushpop(minheap, (mis,j))\n",
        "  \n",
        "  new_words = set([i for (_,i) in minheap])\n",
        "  best_features_news.update(new_words)"
      ],
      "metadata": {
        "id": "2wdFp11I2OKo"
      },
      "execution_count": null,
      "outputs": []
    },
    {
      "cell_type": "markdown",
      "source": [
        "#Task 2"
      ],
      "metadata": {
        "id": "rVc9tOhoZvCD"
      }
    },
    {
      "cell_type": "markdown",
      "source": [
        "Logistic Regression"
      ],
      "metadata": {
        "id": "3RmIW5IfZyIy"
      }
    },
    {
      "cell_type": "code",
      "source": [
        "logistic = lambda a: 1 / (1 + np.exp(-a))\n",
        "from scipy.sparse import hstack, csr_matrix\n",
        "\n",
        "class LogisticRegression:\n",
        "    \n",
        "    def __init__(self, add_bias=True, learning_rate=.1, epsilon=1e-4, max_iters=1e5, verbose=False):\n",
        "        self.add_bias = add_bias\n",
        "        self.learning_rate = learning_rate\n",
        "        self.epsilon = epsilon                        \n",
        "        self.max_iters = max_iters                    \n",
        "        self.verbose = verbose\n",
        "\n",
        "    def gradient(self, x, y):\n",
        "        yh = logistic(np.dot(x, self.w))    \n",
        "        grad = np.dot(x.T, yh - y)/x.shape[0]        \n",
        "        return grad\n",
        "        \n",
        "    def fit(self, x, y):\n",
        "        print(x.shape)\n",
        "        if x.ndim == 1:\n",
        "            x = x[:, None]\n",
        "        print(x.shape)\n",
        "        if self.add_bias:\n",
        "            x = np.column_stack([x,np.ones(x.shape[0])])\n",
        "        print(x.shape)\n",
        "        self.w = np.zeros(x.shape[1])\n",
        "        \n",
        "        g = np.inf \n",
        "        t = 0\n",
        "        \n",
        "        while np.linalg.norm(g) > self.epsilon and t < self.max_iters:\n",
        "            g = self.gradient(x, y)\n",
        "            self.w = self.w - self.learning_rate * g \n",
        "            t += 1\n",
        "        \n",
        "        if self.verbose:\n",
        "            print(f'terminated after {t} iterations, with norm of the gradient equal to {np.linalg.norm(g)}')\n",
        "            print(f'the weight found: {self.w}')\n",
        "        return self\n",
        "    \n",
        "    def predict(self, x):\n",
        "        if x.ndim == 1:\n",
        "            x = x[:, None]\n",
        "        if self.add_bias:\n",
        "            x = np.column_stack([x,np.ones(x.shape[0])])\n",
        "        y_hat = logistic(np.dot(x,self.w))            \n",
        "        return y_hat"
      ],
      "metadata": {
        "id": "eNus185fZ2BW"
      },
      "execution_count": null,
      "outputs": []
    },
    {
      "cell_type": "markdown",
      "source": [
        "Training on IMDB Data"
      ],
      "metadata": {
        "id": "3OpvARR_dsFd"
      }
    },
    {
      "cell_type": "code",
      "source": [
        "model = LogisticRegression()\n",
        "X_imdb_bf = X_imdb[:,best_features_imdb]\n",
        "model.fit(X_imdb_bf.toarray(), y_imdb)"
      ],
      "metadata": {
        "colab": {
          "base_uri": "https://localhost:8080/"
        },
        "id": "AsXH_qOIdqe-",
        "outputId": "af61750d-8b2a-4ff4-a62e-9ef43c2a014a"
      },
      "execution_count": null,
      "outputs": [
        {
          "output_type": "stream",
          "name": "stdout",
          "text": [
            "(25000, 100)\n",
            "(25000, 100)\n",
            "(25000, 101)\n"
          ]
        },
        {
          "output_type": "execute_result",
          "data": {
            "text/plain": [
              "<__main__.LogisticRegression at 0x7fa0e97a9290>"
            ]
          },
          "metadata": {},
          "execution_count": 13
        }
      ]
    }
  ]
}