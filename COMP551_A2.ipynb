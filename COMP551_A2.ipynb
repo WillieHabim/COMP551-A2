{
  "nbformat": 4,
  "nbformat_minor": 0,
  "metadata": {
    "colab": {
      "provenance": [],
      "collapsed_sections": [],
      "authorship_tag": "ABX9TyNlNRzLoIiBwOU84SmMlUrz",
      "include_colab_link": true
    },
    "kernelspec": {
      "name": "python3",
      "display_name": "Python 3"
    },
    "language_info": {
      "name": "python"
    }
  },
  "cells": [
    {
      "cell_type": "markdown",
      "metadata": {
        "id": "view-in-github",
        "colab_type": "text"
      },
      "source": [
        "<a href=\"https://colab.research.google.com/github/WillieHabim/COMP551-A2/blob/main/COMP551_A2.ipynb\" target=\"_parent\"><img src=\"https://colab.research.google.com/assets/colab-badge.svg\" alt=\"Open In Colab\"/></a>"
      ]
    },
    {
      "cell_type": "markdown",
      "source": [
        "# Task 1.1"
      ],
      "metadata": {
        "id": "cj8PPiY8BINX"
      }
    },
    {
      "cell_type": "markdown",
      "source": [
        "##Task 1.1"
      ],
      "metadata": {
        "id": "GtCYc_M8BMaY"
      }
    },
    {
      "cell_type": "markdown",
      "source": [
        "Get Data"
      ],
      "metadata": {
        "id": "KrWxIr_OBUzL"
      }
    },
    {
      "cell_type": "code",
      "source": [
        "!wget http://ai.stanford.edu/~amaas/data/sentiment/aclImdb_v1.tar.gz "
      ],
      "metadata": {
        "id": "x8vRymmrBV9T",
        "colab": {
          "base_uri": "https://localhost:8080/"
        },
        "outputId": "20007f72-4ab0-4a06-8656-d5116e86006e"
      },
      "execution_count": 20,
      "outputs": [
        {
          "output_type": "stream",
          "name": "stdout",
          "text": [
            "--2022-11-02 11:28:25--  http://ai.stanford.edu/~amaas/data/sentiment/aclImdb_v1.tar.gz\n",
            "Resolving ai.stanford.edu (ai.stanford.edu)... 171.64.68.10\n",
            "Connecting to ai.stanford.edu (ai.stanford.edu)|171.64.68.10|:80... connected.\n",
            "HTTP request sent, awaiting response... 200 OK\n",
            "Length: 84125825 (80M) [application/x-gzip]\n",
            "Saving to: ‘aclImdb_v1.tar.gz.1’\n",
            "\n",
            "aclImdb_v1.tar.gz.1 100%[===================>]  80.23M  49.7MB/s    in 1.6s    \n",
            "\n",
            "2022-11-02 11:28:27 (49.7 MB/s) - ‘aclImdb_v1.tar.gz.1’ saved [84125825/84125825]\n",
            "\n"
          ]
        }
      ]
    },
    {
      "cell_type": "code",
      "source": [
        "!tar --gunzip --extract --file=aclImdb_v1.tar.gz "
      ],
      "metadata": {
        "id": "oa4vwnHjNLYv"
      },
      "execution_count": 21,
      "outputs": []
    },
    {
      "cell_type": "code",
      "source": [
        "import pandas as pd\n",
        "\n",
        "words_table = pd.read_csv('aclImdb/imdb.vocab', header=None)\n",
        "words_table.head()"
      ],
      "metadata": {
        "colab": {
          "base_uri": "https://localhost:8080/",
          "height": 204
        },
        "id": "xNYL3SEoOHkK",
        "outputId": "34ceea11-12a2-4d71-ba23-4b4612f0fe17"
      },
      "execution_count": 22,
      "outputs": [
        {
          "output_type": "execute_result",
          "data": {
            "text/plain": [
              "     0\n",
              "0  the\n",
              "1  and\n",
              "2    a\n",
              "3   of\n",
              "4   to"
            ],
            "text/html": [
              "\n",
              "  <div id=\"df-e49729fe-5465-4afa-ab01-a9b100838949\">\n",
              "    <div class=\"colab-df-container\">\n",
              "      <div>\n",
              "<style scoped>\n",
              "    .dataframe tbody tr th:only-of-type {\n",
              "        vertical-align: middle;\n",
              "    }\n",
              "\n",
              "    .dataframe tbody tr th {\n",
              "        vertical-align: top;\n",
              "    }\n",
              "\n",
              "    .dataframe thead th {\n",
              "        text-align: right;\n",
              "    }\n",
              "</style>\n",
              "<table border=\"1\" class=\"dataframe\">\n",
              "  <thead>\n",
              "    <tr style=\"text-align: right;\">\n",
              "      <th></th>\n",
              "      <th>0</th>\n",
              "    </tr>\n",
              "  </thead>\n",
              "  <tbody>\n",
              "    <tr>\n",
              "      <th>0</th>\n",
              "      <td>the</td>\n",
              "    </tr>\n",
              "    <tr>\n",
              "      <th>1</th>\n",
              "      <td>and</td>\n",
              "    </tr>\n",
              "    <tr>\n",
              "      <th>2</th>\n",
              "      <td>a</td>\n",
              "    </tr>\n",
              "    <tr>\n",
              "      <th>3</th>\n",
              "      <td>of</td>\n",
              "    </tr>\n",
              "    <tr>\n",
              "      <th>4</th>\n",
              "      <td>to</td>\n",
              "    </tr>\n",
              "  </tbody>\n",
              "</table>\n",
              "</div>\n",
              "      <button class=\"colab-df-convert\" onclick=\"convertToInteractive('df-e49729fe-5465-4afa-ab01-a9b100838949')\"\n",
              "              title=\"Convert this dataframe to an interactive table.\"\n",
              "              style=\"display:none;\">\n",
              "        \n",
              "  <svg xmlns=\"http://www.w3.org/2000/svg\" height=\"24px\"viewBox=\"0 0 24 24\"\n",
              "       width=\"24px\">\n",
              "    <path d=\"M0 0h24v24H0V0z\" fill=\"none\"/>\n",
              "    <path d=\"M18.56 5.44l.94 2.06.94-2.06 2.06-.94-2.06-.94-.94-2.06-.94 2.06-2.06.94zm-11 1L8.5 8.5l.94-2.06 2.06-.94-2.06-.94L8.5 2.5l-.94 2.06-2.06.94zm10 10l.94 2.06.94-2.06 2.06-.94-2.06-.94-.94-2.06-.94 2.06-2.06.94z\"/><path d=\"M17.41 7.96l-1.37-1.37c-.4-.4-.92-.59-1.43-.59-.52 0-1.04.2-1.43.59L10.3 9.45l-7.72 7.72c-.78.78-.78 2.05 0 2.83L4 21.41c.39.39.9.59 1.41.59.51 0 1.02-.2 1.41-.59l7.78-7.78 2.81-2.81c.8-.78.8-2.07 0-2.86zM5.41 20L4 18.59l7.72-7.72 1.47 1.35L5.41 20z\"/>\n",
              "  </svg>\n",
              "      </button>\n",
              "      \n",
              "  <style>\n",
              "    .colab-df-container {\n",
              "      display:flex;\n",
              "      flex-wrap:wrap;\n",
              "      gap: 12px;\n",
              "    }\n",
              "\n",
              "    .colab-df-convert {\n",
              "      background-color: #E8F0FE;\n",
              "      border: none;\n",
              "      border-radius: 50%;\n",
              "      cursor: pointer;\n",
              "      display: none;\n",
              "      fill: #1967D2;\n",
              "      height: 32px;\n",
              "      padding: 0 0 0 0;\n",
              "      width: 32px;\n",
              "    }\n",
              "\n",
              "    .colab-df-convert:hover {\n",
              "      background-color: #E2EBFA;\n",
              "      box-shadow: 0px 1px 2px rgba(60, 64, 67, 0.3), 0px 1px 3px 1px rgba(60, 64, 67, 0.15);\n",
              "      fill: #174EA6;\n",
              "    }\n",
              "\n",
              "    [theme=dark] .colab-df-convert {\n",
              "      background-color: #3B4455;\n",
              "      fill: #D2E3FC;\n",
              "    }\n",
              "\n",
              "    [theme=dark] .colab-df-convert:hover {\n",
              "      background-color: #434B5C;\n",
              "      box-shadow: 0px 1px 3px 1px rgba(0, 0, 0, 0.15);\n",
              "      filter: drop-shadow(0px 1px 2px rgba(0, 0, 0, 0.3));\n",
              "      fill: #FFFFFF;\n",
              "    }\n",
              "  </style>\n",
              "\n",
              "      <script>\n",
              "        const buttonEl =\n",
              "          document.querySelector('#df-e49729fe-5465-4afa-ab01-a9b100838949 button.colab-df-convert');\n",
              "        buttonEl.style.display =\n",
              "          google.colab.kernel.accessAllowed ? 'block' : 'none';\n",
              "\n",
              "        async function convertToInteractive(key) {\n",
              "          const element = document.querySelector('#df-e49729fe-5465-4afa-ab01-a9b100838949');\n",
              "          const dataTable =\n",
              "            await google.colab.kernel.invokeFunction('convertToInteractive',\n",
              "                                                     [key], {});\n",
              "          if (!dataTable) return;\n",
              "\n",
              "          const docLinkHtml = 'Like what you see? Visit the ' +\n",
              "            '<a target=\"_blank\" href=https://colab.research.google.com/notebooks/data_table.ipynb>data table notebook</a>'\n",
              "            + ' to learn more about interactive tables.';\n",
              "          element.innerHTML = '';\n",
              "          dataTable['output_type'] = 'display_data';\n",
              "          await google.colab.output.renderOutput(dataTable, element);\n",
              "          const docLink = document.createElement('div');\n",
              "          docLink.innerHTML = docLinkHtml;\n",
              "          element.appendChild(docLink);\n",
              "        }\n",
              "      </script>\n",
              "    </div>\n",
              "  </div>\n",
              "  "
            ]
          },
          "metadata": {},
          "execution_count": 22
        }
      ]
    },
    {
      "cell_type": "code",
      "source": [
        "!pip install -U libsvm-official"
      ],
      "metadata": {
        "colab": {
          "base_uri": "https://localhost:8080/"
        },
        "id": "ns_QJIduSf5c",
        "outputId": "a5c7eb88-076f-4875-89dc-ba5b47ccf898"
      },
      "execution_count": 23,
      "outputs": [
        {
          "output_type": "stream",
          "name": "stdout",
          "text": [
            "Looking in indexes: https://pypi.org/simple, https://us-python.pkg.dev/colab-wheels/public/simple/\n",
            "Requirement already satisfied: libsvm-official in /usr/local/lib/python3.7/dist-packages (3.30.0)\n",
            "Requirement already satisfied: scipy in /usr/local/lib/python3.7/dist-packages (from libsvm-official) (1.7.3)\n",
            "Requirement already satisfied: numpy<1.23.0,>=1.16.5 in /usr/local/lib/python3.7/dist-packages (from scipy->libsvm-official) (1.21.6)\n"
          ]
        }
      ]
    },
    {
      "cell_type": "code",
      "source": [
        "import numpy as np\n",
        "np.random.seed(3)\n",
        "words = words_table.to_numpy()\n",
        "words.shape"
      ],
      "metadata": {
        "colab": {
          "base_uri": "https://localhost:8080/"
        },
        "id": "_jsHfZCKXF-n",
        "outputId": "9611cbab-8d76-4a3b-8d76-fee3bec92f4f"
      },
      "execution_count": 44,
      "outputs": [
        {
          "output_type": "execute_result",
          "data": {
            "text/plain": [
              "(89527, 1)"
            ]
          },
          "metadata": {},
          "execution_count": 44
        }
      ]
    },
    {
      "cell_type": "code",
      "source": [
        "valid_indices = [1 for i in range(words.shape[0])]\n",
        "len(valid_indices)"
      ],
      "metadata": {
        "colab": {
          "base_uri": "https://localhost:8080/"
        },
        "id": "fy9wZxz6iF-3",
        "outputId": "78a65c39-34d1-400c-a921-b78f306ab893"
      },
      "execution_count": 25,
      "outputs": [
        {
          "output_type": "execute_result",
          "data": {
            "text/plain": [
              "89527"
            ]
          },
          "metadata": {},
          "execution_count": 25
        }
      ]
    },
    {
      "cell_type": "markdown",
      "source": [
        "Remove rare and stopwords"
      ],
      "metadata": {
        "id": "_rWUw-WmhdfX"
      }
    },
    {
      "cell_type": "code",
      "source": [
        "import scipy\n",
        "from libsvm.svmutil import *\n",
        "y, x = svm_read_problem('aclImdb/train/labeledBow.feat', return_scipy = True) # y: ndarray, x: csr_matrix\n",
        "appearances = (x != 0).sum(0)\n",
        "ratios = appearances/y.shape[0]\n",
        "valid_imdb_indices = np.where((ratios < .01) | (ratios > 0.5), False, True).flatten()\n",
        "invalid_indices = np.logical_not(valid_indices)"
      ],
      "metadata": {
        "id": "V3fVI3LdO3xE"
      },
      "execution_count": 26,
      "outputs": []
    },
    {
      "cell_type": "code",
      "source": [
        "valid_imdb_indices = np.array(valid_imdb_indices, dtype=bool)\n",
        "valid_words = words[valid_imdb_indices, :]\n",
        "X_imdb = x[:, valid_imdb_indices]\n",
        "y_imdb = y\n",
        "y_imdb = (y_imdb >= 5).astype(int)"
      ],
      "metadata": {
        "id": "9jNkWKJla5yV"
      },
      "execution_count": 150,
      "outputs": []
    },
    {
      "cell_type": "markdown",
      "source": [
        "Find 100 top features/words by absolute z-score "
      ],
      "metadata": {
        "id": "h_9p2QU3iX1p"
      }
    },
    {
      "cell_type": "code",
      "source": [
        "from sklearn.preprocessing import StandardScaler\n",
        "import math\n",
        "\n",
        "scaler = StandardScaler()\n",
        "x_standard = scaler.fit_transform(X_imdb.toarray())\n",
        "y_standard = scaler.fit_transform(y_imdb.reshape(-1,1)).flatten()\n",
        "\n",
        "z = (np.dot(x_standard.T, y_standard))/math.sqrt(y.shape[0])\n",
        "best_features_imdb = np.argsort(abs(z))[::-1][:100]"
      ],
      "metadata": {
        "id": "moKrliYhY_dn"
      },
      "execution_count": 151,
      "outputs": []
    },
    {
      "cell_type": "markdown",
      "source": [
        "##Task 1.2"
      ],
      "metadata": {
        "id": "0VWrFQAdintm"
      }
    },
    {
      "cell_type": "markdown",
      "source": [
        "Getting best features from news dataset"
      ],
      "metadata": {
        "id": "Nh20VtJJZkZw"
      }
    },
    {
      "cell_type": "code",
      "source": [
        "from sklearn.datasets import fetch_20newsgroups\n",
        "from sklearn.feature_extraction.text import CountVectorizer\n",
        "from sklearn.metrics import mutual_info_score\n",
        "from heapq import heappush, heappushpop\n",
        "\n",
        "bunch = fetch_20newsgroups(subset=\"train\", categories=['rec.motorcycles', 'soc.religion.christian', 'sci.med', 'comp.windows.x'], remove=(['headers', 'footers', 'quotes']))\n",
        "count_vect = CountVectorizer()\n",
        "X_train_counts = count_vect.fit_transform(bunch.data)\n",
        "\n",
        "# 4 categories:\n",
        "# -------\n",
        "# 1) rec.motorcycles 8\n",
        "# 2) soc.religion.christian 15\n",
        "# 3) sci.med 13\n",
        "# 4) comp.windows.x 5\n",
        "\n",
        "# category_indices = np.where((bunch.target == 8) | (bunch.target == 5) |(bunch.target == 15) |(bunch.target == 13), True, False).tolist()\n",
        "# X_train_counts = X_train_total_counts[category_indices, :]\n",
        "\n",
        "# One-hot Encoding\n",
        "# -----------------\n",
        "y_news_train = np.zeros((bunch.target.size, 4))\n",
        "y_news_train[np.arange(bunch.target.size), bunch.target] = 1\n",
        "\n",
        "ratios = ((X_train_counts != 0).sum(0))/y_news_train.shape[0]\n",
        "valid_news_indices = np.where((ratios < .01) | (ratios > 0.5), False, True).flatten()\n",
        "valid_news_indices = np.array(valid_news_indices, dtype=bool)\n",
        "\n",
        "X_news = X_train_counts[:, valid_news_indices]\n",
        "best_features_news = set()\n",
        "\n",
        "for i in range(4):\n",
        "  minheap = []\n",
        "  for j in range(X_news.shape[1]):\n",
        "    mis = mutual_info_score(y_news_train[:,i], X_news[:,j].toarray().flatten())\n",
        "    if len(minheap) < 100:\n",
        "      heappush(minheap, (mis,j))\n",
        "    elif minheap[0][0] < mis:\n",
        "      heappushpop(minheap, (mis,j))\n",
        "  \n",
        "  new_words = set([i for (_,i) in minheap])\n",
        "  best_features_news.update(new_words)\n",
        "\n",
        "X_news_train = X_news[:, list(best_features_news)]"
      ],
      "metadata": {
        "id": "2wdFp11I2OKo"
      },
      "execution_count": 29,
      "outputs": []
    },
    {
      "cell_type": "markdown",
      "source": [
        "#Task 2"
      ],
      "metadata": {
        "id": "rVc9tOhoZvCD"
      }
    },
    {
      "cell_type": "markdown",
      "source": [
        "Logistic Regression"
      ],
      "metadata": {
        "id": "3RmIW5IfZyIy"
      }
    },
    {
      "cell_type": "code",
      "source": [
        "logistic = lambda a: 1.0 / (1 + np.exp(-a))\n",
        "\n",
        "class LogisticRegression:\n",
        "    \n",
        "    def __init__(self, add_bias=True, learning_rate=.05, epsilon=1e-4, max_iters=1000):\n",
        "        self.add_bias = add_bias\n",
        "        self.learning_rate = learning_rate\n",
        "        self.epsilon = epsilon                        \n",
        "        self.max_iters = max_iters                  \n",
        "\n",
        "    def gradient(self, x, y):\n",
        "        yh = logistic(np.dot(x, self.w))    \n",
        "        grad = np.dot(x.T, yh - y)/x.shape[0]\n",
        "        return grad\n",
        "\n",
        "    def ce(self, X, y):\n",
        "      a = np.dot(X, self.w)\n",
        "      return np.sum(y * np.log1p(np.exp(-a)) + (1-y) * np.log1p(np.exp(a)))\n",
        "         \n",
        "    def fit(self, x, y, x_valid=None, y_valid=None):\n",
        "        if x.ndim == 1:\n",
        "            x = x[:, None]\n",
        "            if x_valid is not None:\n",
        "              x_valid = x_valid[:, None]\n",
        "        if self.add_bias:\n",
        "            x = np.column_stack([x,np.ones(x.shape[0])])\n",
        "            if x_valid is not None:\n",
        "              x_valid = np.column_stack([x_valid,np.ones(x_valid.shape[0])])\n",
        "        self.w = np.array(np.zeros(x.shape[1]), dtype=np.float128)\n",
        "        \n",
        "        g = np.inf \n",
        "        t = 0\n",
        "        self.losses = np.array([])\n",
        "        if x_valid is not None and y_valid is not None:\n",
        "          self.losses_valid = np.array([])\n",
        "        while np.linalg.norm(g) > self.epsilon and t < self.max_iters:\n",
        "            self.losses = np.append(self.losses, self.ce(x,y))\n",
        "            if x_valid is not None and y_valid is not None:\n",
        "              cost = self.ce(x_valid,y_valid)\n",
        "              #print(f\"iter {t}: {cost}\")\n",
        "              self.losses_valid = np.append(self.losses_valid, cost)\n",
        "            g = self.gradient(x, y)\n",
        "            self.w = self.w - self.learning_rate * g \n",
        "            t += 1\n",
        "        \n",
        "        return self\n",
        "    \n",
        "    def predict(self, x):\n",
        "        if x.ndim == 1:\n",
        "            x = x[:, None]\n",
        "        if self.add_bias:\n",
        "            x = np.column_stack([x,np.ones(x.shape[0])])\n",
        "        y_hat = logistic(np.dot(x,self.w))            \n",
        "        return y_hat\n",
        "\n",
        "    def check_g(self, x, y):\n",
        "      N,D = x.shape\n",
        "      diff = np.zeros(D+1)\n",
        "      w = np.array(self.w.copy(), dtype=np.float128)\n",
        "\n",
        "      if self.add_bias:\n",
        "        x = np.column_stack([x,np.ones(x.shape[0])])\n",
        "\n",
        "      for i in range(D+1):\n",
        "        epsilon = np.zeros(D+1)\n",
        "        epsilon[i] = np.random.randn(1)[0] * 1e-5\n",
        "        self.w = self.w + epsilon\n",
        "        ce1 = self.ce(x, y)\n",
        "        self.w = w\n",
        "\n",
        "        self.w = self.w - epsilon\n",
        "        ce2 = self.ce(x, y)\n",
        "        self.w = w\n",
        "        \n",
        "        numeric_g = (ce1 - ce2) / (2*epsilon[i])\n",
        "        derived_g = self.gradient(x,y)[i]*N\n",
        "        \n",
        "        diff[i] = np.square(derived_g - numeric_g) / np.square(derived_g + numeric_g)\n",
        "      \n",
        "      return np.nansum(diff)\n",
        "\n",
        "\n"
      ],
      "metadata": {
        "id": "eNus185fZ2BW"
      },
      "execution_count": 162,
      "outputs": []
    },
    {
      "cell_type": "markdown",
      "source": [
        "Training on IMDB Data"
      ],
      "metadata": {
        "id": "3OpvARR_dsFd"
      }
    },
    {
      "cell_type": "code",
      "source": [
        "from sklearn import model_selection\n",
        "model = LogisticRegression()\n",
        "X_imdb_train, X_imdb_valid, y_imdb_train, y_imdb_valid = model_selection.train_test_split(\n",
        "    X_imdb, y_imdb, test_size = 0.5, random_state=1, shuffle=True)\n",
        "\n",
        "X_imdb_train_scaled = np.array(scaler.fit_transform(X_imdb_train[:,best_features_imdb].toarray()), dtype=np.float128)\n",
        "X_imdb_valid_scaled = scaler.fit_transform(X_imdb_valid[:,best_features_imdb].toarray())\n",
        "fit = model.fit(X_imdb_train_scaled, y_imdb_train, X_imdb_valid_scaled, y_imdb_valid)\n",
        "optimal_iter = fit.losses_valid.argmin()\n",
        "print(optimal_iter)\n",
        "#Retrain model with opitmal iter\n",
        "model = LogisticRegression(max_iters=optimal_iter)\n",
        "X_imdb_scaled = np.array(scaler.fit_transform(X_imdb[:,best_features_imdb].toarray()), dtype=np.float128)\n",
        "fit = model.fit(X_imdb_scaled, y_imdb)"
      ],
      "metadata": {
        "colab": {
          "base_uri": "https://localhost:8080/"
        },
        "id": "AsXH_qOIdqe-",
        "outputId": "987e2db2-b283-4818-e42a-ffe1a55e4fa7"
      },
      "execution_count": 163,
      "outputs": [
        {
          "output_type": "stream",
          "name": "stdout",
          "text": [
            "602\n"
          ]
        }
      ]
    },
    {
      "cell_type": "markdown",
      "source": [
        "Testing on IMDB Data"
      ],
      "metadata": {
        "id": "sMfCLT4ZrP_1"
      }
    },
    {
      "cell_type": "code",
      "source": [
        "from sklearn.metrics import roc_curve, roc_auc_score\n",
        "y_imdb_test, X_imdb_test = svm_read_problem('aclImdb/test/labeledBow.feat', return_scipy = True) # y: ndarray, x: csr_matrix\n",
        "X_imdb_test = X_imdb_test[:,valid_imdb_indices]\n",
        "y_imdb_pred = fit.predict(X_imdb_test[:,best_features_imdb].toarray())\n",
        "y_imdb_test = (y_imdb_test >= 5).astype(int)\n",
        "auroc = roc_auc_score(y_imdb_test, y_imdb_pred)\n",
        "auroc"
      ],
      "metadata": {
        "colab": {
          "base_uri": "https://localhost:8080/"
        },
        "id": "mAwkEE3prSrN",
        "outputId": "8f553d17-2331-4154-f30e-dbf49b2fc79e"
      },
      "execution_count": 164,
      "outputs": [
        {
          "output_type": "execute_result",
          "data": {
            "text/plain": [
              "0.8778829824000001"
            ]
          },
          "metadata": {},
          "execution_count": 164
        }
      ]
    },
    {
      "cell_type": "markdown",
      "source": [
        "Multiclass Regression"
      ],
      "metadata": {
        "id": "2WnshP83yL0c"
      }
    },
    {
      "cell_type": "code",
      "source": [
        "class MulticlassRegression:\n",
        "\n",
        "  def __init__(self, num_features, num_classes, learning_rate=.0005, epsilon=1e-4, max_iters=1e3):\n",
        "      #populate W with values from a random sample from a uniform distribution\n",
        "      self.lr = learning_rate\n",
        "      self.epsilon = epsilon\n",
        "      self.max_iters = math.floor(max_iters)\n",
        "      self.num_features = num_features\n",
        "      self.num_classes = num_classes\n",
        "      self.W = np.random.rand(num_features, num_classes)\n",
        "      \n",
        "\n",
        "  def predict(self, x):\n",
        "    #compute product XW\n",
        "    z = x @ self.W\n",
        "    #compute soft max\n",
        "    #adjust terms \n",
        "    z_max = z.max(axis=1)\n",
        "    z = z - np.tile(z_max, (4, 1)).transpose()\n",
        "    y_pred = np.exp(z)\n",
        "    return y_pred / y_pred.sum(axis=1).reshape(x.shape[0], 1)\n",
        "\n",
        "  def gradient(self, x, y):\n",
        "    x_t = np.transpose(x)\n",
        "    return x_t @ (self.predict(x) - y) \n",
        "\n",
        "  def cost(self, x, y):\n",
        "    return -np.nansum(y * np.log(self.predict(x)))\n",
        "\n",
        "  def fit(self, x, y, x_valid=None, y_valid=None):\n",
        "    loss_train = np.array([])\n",
        "    loss_valid = np.array([])\n",
        "    for n in range(self.max_iters):\n",
        "      g = self.gradient(x, y)\n",
        "      self.W = self.W - self.lr * g\n",
        "      cost = self.cost(x,y)\n",
        "      loss_train = np.append(loss_train, cost)\n",
        "      if x_valid is not None and y_valid is not None:\n",
        "        loss_valid = np.append(loss_valid, self.cost(x_valid, y_valid))\n",
        "      if np.linalg.norm(g) < self.epsilon:\n",
        "        break\n",
        "    \n",
        "    return loss_train, loss_valid\n",
        "  \n",
        "  def check_grad(self, x, y):\n",
        "    N, C = y.shape\n",
        "    D = x.shape[1]\n",
        "\n",
        "    diff = np.zeros((D, C))\n",
        "\n",
        "    W = self.W.copy()\n",
        "\n",
        "    for i in range(D):\n",
        "      for j in range(C):\n",
        "        epsilon = np.zeros((D, C))\n",
        "        epsilon[i, j] = np.random.rand() * 1e-4\n",
        "\n",
        "        self.W = self.W + epsilon\n",
        "        J1 = self.cost(x, y)\n",
        "        self.W = W\n",
        "\n",
        "        self.W = self.W - epsilon\n",
        "        J2 = self.cost(x, y)\n",
        "        self.W = W\n",
        "\n",
        "        numeric_grad = (J1 - J2) / (2 * epsilon[i, j])\n",
        "        derived_grad = self.gradient(x, y)[i, j]\n",
        "\n",
        "        diff[i, j] = np.square(derived_grad - numeric_grad).sum() / \\\n",
        "                      np.square(derived_grad + numeric_grad).sum()\n",
        "\n",
        "\n",
        "    return diff.sum()\n"
      ],
      "metadata": {
        "id": "0yo3oDZKFx9c"
      },
      "execution_count": 33,
      "outputs": []
    },
    {
      "cell_type": "markdown",
      "source": [
        "Training on News Dataset"
      ],
      "metadata": {
        "id": "7f_22Ms6j0bx"
      }
    },
    {
      "cell_type": "code",
      "source": [
        "model = MulticlassRegression(X_news_train.shape[1], y_news_train.shape[1])\n",
        "# X_news_train_scaled = scaler.fit_transform(X_news_train.toarray())\n",
        "X_news_train_, X_news_valid, y_news_train_, y_news_valid = model_selection.train_test_split(\n",
        "    X_news_train, y_news_train, test_size = 0.5, random_state=1, shuffle=True)\n",
        "X_news_train_scaled = scaler.fit_transform(X_news_train_.toarray())\n",
        "X_news_valid_scaled = scaler.fit_transform(X_news_valid.toarray())\n",
        "ce_train, ce_valid = model.fit(X_news_train_scaled, y_news_train_, X_news_valid_scaled, y_news_valid)\n",
        "optimal_iter = ce_valid.argmin()\n",
        "print(optimal_iter)\n",
        "#Retrain model using optimal iter\n",
        "model = MulticlassRegression(X_news_train.shape[1], y_news_train.shape[1], max_iters=optimal_iter)\n",
        "X_news_train_scaled = scaler.fit_transform(X_news_train.toarray())\n",
        "ce_train, ce_valid = model.fit(X_news_train_scaled, y_news_train)"
      ],
      "metadata": {
        "colab": {
          "base_uri": "https://localhost:8080/"
        },
        "id": "1RFfVH9LjZcu",
        "outputId": "140b4c4e-ce32-469b-f703-93a2c54536af"
      },
      "execution_count": 34,
      "outputs": [
        {
          "output_type": "stream",
          "name": "stderr",
          "text": [
            "/usr/local/lib/python3.7/dist-packages/ipykernel_launcher.py:28: RuntimeWarning: divide by zero encountered in log\n",
            "/usr/local/lib/python3.7/dist-packages/ipykernel_launcher.py:28: RuntimeWarning: invalid value encountered in multiply\n"
          ]
        },
        {
          "output_type": "stream",
          "name": "stdout",
          "text": [
            "250\n"
          ]
        }
      ]
    },
    {
      "cell_type": "markdown",
      "source": [
        "Testing on News Dataset"
      ],
      "metadata": {
        "id": "mFyeKaNXj3Nj"
      }
    },
    {
      "cell_type": "code",
      "source": [
        "bunch_test = fetch_20newsgroups(subset=\"test\", categories=['rec.motorcycles', 'soc.religion.christian', 'sci.med', 'comp.windows.x'], remove=(['headers', 'footers', 'quotes']))\n",
        "count_vect_test = CountVectorizer()\n",
        "X_test_counts = count_vect_test.fit_transform(bunch_test.data)\n",
        "test_words = count_vect_test.vocabulary_\n",
        "valid_words = count_vect.get_feature_names_out()[valid_news_indices]\n",
        "feature_names = valid_words[list(best_features_news)]\n",
        "X_news_test = np.zeros((X_test_counts.shape[0], X_news_train.shape[1]))\n",
        "for i in range(feature_names.shape[0]):\n",
        "  if feature_names[i] in test_words:\n",
        "    X_news_test[:,i] = X_test_counts[:,test_words[feature_names[i]]].toarray().flatten()\n",
        "\n",
        "y_test_news = np.zeros((bunch_test.target.size, 4))\n",
        "y_test_news[np.arange(bunch_test.target.size), bunch_test.target] = 1\n",
        "y_news_pred = model.predict(X_news_test)\n",
        "\n",
        "accuracy = sum(y_news_pred.argmax(axis=1) == y_test_news.argmax(axis=1))\n",
        "accuracy = accuracy / y_test_news.shape[0]\n",
        "accuracy"
      ],
      "metadata": {
        "colab": {
          "base_uri": "https://localhost:8080/"
        },
        "id": "o8bNC23sjZst",
        "outputId": "4e19e3b4-5583-4c05-8f3b-3afd4f4d4528"
      },
      "execution_count": 35,
      "outputs": [
        {
          "output_type": "execute_result",
          "data": {
            "text/plain": [
              "0.7561436672967864"
            ]
          },
          "metadata": {},
          "execution_count": 35
        }
      ]
    },
    {
      "cell_type": "markdown",
      "source": [
        "KNN Comparison"
      ],
      "metadata": {
        "id": "x4i0Jhazj8sg"
      }
    },
    {
      "cell_type": "code",
      "source": [
        "from sklearn.neighbors import KNeighborsClassifier\n",
        "max_imdb_score = 0\n",
        "max_news_score = 0\n",
        "x_imdb_test = X_imdb_test[:,best_features_imdb].toarray()\n",
        "\n",
        "for k in [1,5,10]:\n",
        "  knn_imdb = KNeighborsClassifier(k)\n",
        "  knn_imdb.fit(X_imdb_scaled, y_imdb)\n",
        "  pred = knn_imdb.predict(x_imdb_test)\n",
        "  score = roc_auc_score(y_imdb_test, pred)\n",
        "  max_imdb_score = max(max_imdb_score, score)\n",
        "\n",
        "  knn_news = KNeighborsClassifier(k)\n",
        "  knn_news.fit(X_news_train, y_news_train)\n",
        "  score = knn_news.score(X_news_test, y_test_news)\n",
        "  max_news_score = max(max_news_score, score)\n",
        "\n",
        "print(f\"IMDB auroc: {max_imdb_score}\")\n",
        "print(f\"News accuracy: {max_news_score}\")\n",
        "\n",
        "\n"
      ],
      "metadata": {
        "colab": {
          "base_uri": "https://localhost:8080/"
        },
        "id": "xJZIHDovL50S",
        "outputId": "28358f27-cede-43d6-ea99-274c9c6541bb"
      },
      "execution_count": 170,
      "outputs": [
        {
          "output_type": "stream",
          "name": "stdout",
          "text": [
            "IMDB auroc: 0.6594\n",
            "News accuracy: 0.4612476370510397\n"
          ]
        }
      ]
    },
    {
      "cell_type": "markdown",
      "source": [
        "##Task 2.1"
      ],
      "metadata": {
        "id": "eJU5LqM1jxGH"
      }
    },
    {
      "cell_type": "markdown",
      "source": [
        "Gradient of Logisitic Regression Model"
      ],
      "metadata": {
        "id": "m7pitAxWj4A_"
      }
    },
    {
      "cell_type": "code",
      "source": [
        "fit.check_g(X_imdb_scaled, y_imdb)"
      ],
      "metadata": {
        "id": "L5F-u3vJj2PQ",
        "colab": {
          "base_uri": "https://localhost:8080/"
        },
        "outputId": "6365c236-f7c9-4083-e768-0e8643760513"
      },
      "execution_count": 165,
      "outputs": [
        {
          "output_type": "execute_result",
          "data": {
            "text/plain": [
              "100.98384129101971"
            ]
          },
          "metadata": {},
          "execution_count": 165
        }
      ]
    },
    {
      "cell_type": "markdown",
      "source": [
        "Gradient of Multiclass Regression Model"
      ],
      "metadata": {
        "id": "J5xcn4wej9Kb"
      }
    },
    {
      "cell_type": "code",
      "source": [
        "model.check_grad(X_news_train_scaled, y_news_train)"
      ],
      "metadata": {
        "id": "ZYB6Jluoj_jR",
        "colab": {
          "base_uri": "https://localhost:8080/"
        },
        "outputId": "0e969dc5-86d9-45b8-e68b-e1490cff0113"
      },
      "execution_count": 38,
      "outputs": [
        {
          "output_type": "execute_result",
          "data": {
            "text/plain": [
              "1.678450100353709e-10"
            ]
          },
          "metadata": {},
          "execution_count": 38
        }
      ]
    },
    {
      "cell_type": "markdown",
      "source": [
        "CE vs Iteration of Logistic Regression"
      ],
      "metadata": {
        "id": "3f8A8x7ikBVf"
      }
    },
    {
      "cell_type": "code",
      "source": [
        "%matplotlib notebook\n",
        "%matplotlib inline\n",
        "import matplotlib.pyplot as plt\n",
        "\n",
        "plt.clf()\n",
        "plt.figure(figsize=((16/9)*3.6,3.6))\n",
        "plt.plot(fit.losses)\n",
        "plt.ylabel(\"Cross entropy\")\n",
        "plt.xlabel(\"iteration\")\n",
        "plt.title(\"Cross entropy vs Iteration: Logisitic Regression model on IMDB dataset \")"
      ],
      "metadata": {
        "id": "vAIxs9w2kI3S",
        "colab": {
          "base_uri": "https://localhost:8080/",
          "height": 308
        },
        "outputId": "9951aec8-6b97-47fe-cc11-b3eec78a835e"
      },
      "execution_count": 168,
      "outputs": [
        {
          "output_type": "execute_result",
          "data": {
            "text/plain": [
              "Text(0.5, 1.0, 'Cross entropy vs Iteration: Logisitic Regression model on IMDB dataset ')"
            ]
          },
          "metadata": {},
          "execution_count": 168
        },
        {
          "output_type": "display_data",
          "data": {
            "text/plain": [
              "<Figure size 432x288 with 0 Axes>"
            ]
          },
          "metadata": {}
        },
        {
          "output_type": "display_data",
          "data": {
            "text/plain": [
              "<Figure size 460.8x259.2 with 1 Axes>"
            ],
            "image/png": "[encoded data removed]"
          },
          "metadata": {
            "needs_background": "light"
          }
        }
      ]
    },
    {
      "cell_type": "markdown",
      "source": [
        "CE vs Iteration of Multiclass Regression Model"
      ],
      "metadata": {
        "id": "juZDpuPIkJQv"
      }
    },
    {
      "cell_type": "code",
      "source": [
        "plt.clf()\n",
        "plt.figure(figsize=((16/9)*3.6,3.6))\n",
        "plt.plot(ce_train)\n",
        "plt.ylabel(\"Cross entropy\")\n",
        "plt.xlabel(\"iteration\")\n",
        "plt.title(\"Cross entropy vs Iteration: Multiclass Regression model on 20-news-group dataset \")"
      ],
      "metadata": {
        "id": "Dn1kZk7ckJtD",
        "colab": {
          "base_uri": "https://localhost:8080/",
          "height": 308
        },
        "outputId": "446713a4-a37c-48dd-b77c-6074075694d3"
      },
      "execution_count": 169,
      "outputs": [
        {
          "output_type": "execute_result",
          "data": {
            "text/plain": [
              "Text(0.5, 1.0, 'Cross entropy vs Iteration: Multiclass Regression model on 20-news-group dataset ')"
            ]
          },
          "metadata": {},
          "execution_count": 169
        },
        {
          "output_type": "display_data",
          "data": {
            "text/plain": [
              "<Figure size 432x288 with 0 Axes>"
            ]
          },
          "metadata": {}
        },
        {
          "output_type": "display_data",
          "data": {
            "text/plain": [
              "<Figure size 460.8x259.2 with 1 Axes>"
            ],
            "image/png": "[encoded data removed]"
          },
          "metadata": {
            "needs_background": "light"
          }
        }
      ]
    }
  ]
}